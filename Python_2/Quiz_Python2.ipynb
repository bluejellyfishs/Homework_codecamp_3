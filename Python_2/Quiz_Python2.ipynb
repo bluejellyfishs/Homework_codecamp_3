{
 "cells": [
  {
   "cell_type": "code",
   "execution_count": 4,
   "metadata": {},
   "outputs": [
    {
     "name": "stdout",
     "output_type": "stream",
     "text": [
      "5\n",
      "เลขคี่\n"
     ]
    }
   ],
   "source": [
    "a = input()\n",
    "\n",
    "if(int(a) == 0):\n",
    "    print(\"เลขศูนย์\")\n",
    "elif(int(a)%2 == 0):\n",
    "    print(\"เลขคู่\")\n",
    "elif(int(a)%2 != 0):\n",
    "    print(\"เลขคี่\")    "
   ]
  },
  {
   "cell_type": "code",
   "execution_count": 6,
   "metadata": {},
   "outputs": [
    {
     "name": "stdout",
     "output_type": "stream",
     "text": [
      "100\n",
      "0\n",
      "4\n",
      "25.0\n"
     ]
    }
   ],
   "source": [
    "a = float(input())\n",
    "b = float(input())\n",
    "\n",
    "while b == 0:\n",
    "    b = float(input())\n",
    "    \n",
    "print(a/b)"
   ]
  },
  {
   "cell_type": "code",
   "execution_count": 7,
   "metadata": {},
   "outputs": [
    {
     "name": "stdout",
     "output_type": "stream",
     "text": [
      "4\n",
      "8\n",
      "9\n",
      "0\n",
      "5.25\n"
     ]
    }
   ],
   "source": [
    "a = int(input())\n",
    "count = 1\n",
    "total = a\n",
    "\n",
    "while a != 0:\n",
    "    a = int(input())\n",
    "    total += a \n",
    "    count += 1\n",
    "else: \n",
    "    print(total/count)"
   ]
  },
  {
   "cell_type": "code",
   "execution_count": 9,
   "metadata": {},
   "outputs": [
    {
     "name": "stdout",
     "output_type": "stream",
     "text": [
      "50\n",
      "หาร 7 ไม่ลงตัว\n"
     ]
    }
   ],
   "source": [
    "a = int(input())\n",
    "\n",
    "if (a%7 != 0):\n",
    "    print(\"หาร 7 ไม่ลงตัว\")\n",
    "else:\n",
    "    print(\"หาร 7 ลงตัว\")    "
   ]
  },
  {
   "cell_type": "code",
   "execution_count": 10,
   "metadata": {},
   "outputs": [
    {
     "name": "stdout",
     "output_type": "stream",
     "text": [
      "3\n",
      "4\n",
      "5\n",
      "True\n"
     ]
    }
   ],
   "source": [
    "a = int(input())\n",
    "b = int(input())\n",
    "c = int(input())\n",
    "\n",
    "if (a**2 == (b**2 + c**2)) | (b**2 == (a**2 + c**2)) | (c**2 == (b**2 + a**2)):\n",
    "    print(\"True\")\n",
    "else:\n",
    "    print(\"False\")"
   ]
  },
  {
   "cell_type": "code",
   "execution_count": 12,
   "metadata": {},
   "outputs": [
    {
     "name": "stdout",
     "output_type": "stream",
     "text": [
      "5\n",
      "8\n",
      "2\n",
      "สามเหลี่ยมมุมป้าน\n"
     ]
    }
   ],
   "source": [
    "a = int(input())\n",
    "b = int(input())\n",
    "c = int(input())\n",
    "\n",
    "if (a**2 == (b**2 + c**2)) | (b**2 == (a**2 + c**2)) | (c**2 == (b**2 + a**2)):\n",
    "    print(\"สามเหลี่ยมมุมฉาก\")\n",
    "elif (a**2 > (b**2 + c**2)) | (b**2 > (a**2 + c**2)) | (c**2 > (b**2 + a**2)):\n",
    "    print(\"สามเหลี่ยมมุมป้าน\")  \n",
    "else:\n",
    "    print(\"สามเหลี่ยมมุมแหลม\")"
   ]
  },
  {
   "cell_type": "code",
   "execution_count": 13,
   "metadata": {},
   "outputs": [
    {
     "name": "stdout",
     "output_type": "stream",
     "text": [
      "40\n",
      "6000\n",
      "90\n",
      "กรุณากรอกข้อมูลที่ 1 ใหม่:400\n",
      "กรุณากรอกข้อมูลที่ 2 ใหม่:3000\n",
      "กรุณากรอกข้อมูลที่ 3 ใหม่:1001\n",
      "กรุณากรอกข้อมูลที่ 1 ใหม่:4000\n",
      "6800.849999999999\n"
     ]
    }
   ],
   "source": [
    "a = int(input())\n",
    "b = int(input())\n",
    "c = int(input())\n",
    "while (a < 1000) | (a > 5000) | (b < 1000) | (b > 5000) | (c < 1000) | (c > 5000):\n",
    "    if (a < 1000) | (a > 5000):\n",
    "       a = int(input(\"กรุณากรอกข้อมูลที่ 1 ใหม่:\")) \n",
    "    if (b < 1000) | (b > 5000):\n",
    "       b = int(input(\"กรุณากรอกข้อมูลที่ 2 ใหม่:\")) \n",
    "    if (c < 1000) | (c > 5000):\n",
    "       c = int(input(\"กรุณากรอกข้อมูลที่ 3 ใหม่:\")) \n",
    "else:\n",
    "    total = a + b + c\n",
    "    if (total > 12000):\n",
    "        total *= 0.75\n",
    "    elif (total > 6000):\n",
    "        total *= 0.85\n",
    "    print(total)    "
   ]
  },
  {
   "cell_type": "code",
   "execution_count": 14,
   "metadata": {},
   "outputs": [
    {
     "name": "stdout",
     "output_type": "stream",
     "text": [
      "2000\n",
      "2500\n",
      "3000\n",
      "4000\n",
      "3400.0\n"
     ]
    }
   ],
   "source": [
    "a = int(input())\n",
    "b = int(input())\n",
    "c = int(input())\n",
    "d = int(input())\n",
    "\n",
    "while (a < 1000) | (a > 5000) | (b < 1000) | (b > 5000) | (c < 1000) | (c > 5000) | (d < 1000) | (d > 5000):\n",
    "    if (a < 1000) | (a > 5000):\n",
    "       a = int(input(\"กรุณากรอกข้อมูลที่ 1 ใหม่:\")) \n",
    "    if (b < 1000) | (b > 5000):\n",
    "       b = int(input(\"กรุณากรอกข้อมูลที่ 2 ใหม่:\")) \n",
    "    if (c < 1000) | (c > 5000):\n",
    "       c = int(input(\"กรุณากรอกข้อมูลที่ 3 ใหม่:\")) \n",
    "    if (d < 1000) | (d > 5000):\n",
    "       d = int(input(\"กรุณากรอกข้อมูลที่ 4 ใหม่:\"))    \n",
    "else:\n",
    "    total = a + b + c\n",
    "    if (total > 12000):\n",
    "        d *= 0.75\n",
    "    elif (total > 6000):\n",
    "        d *= 0.85\n",
    "    print(d)   "
   ]
  },
  {
   "cell_type": "code",
   "execution_count": 15,
   "metadata": {},
   "outputs": [
    {
     "name": "stdout",
     "output_type": "stream",
     "text": [
      "300\n",
      "2000\n",
      "2000\n",
      "2000\n",
      "กรุณากรอกข้อมูลที่ 1 ใหม่:2000\n",
      "1500.0\n"
     ]
    }
   ],
   "source": [
    "a = int(input())\n",
    "b = int(input())\n",
    "c = int(input())\n",
    "d = int(input())\n",
    "\n",
    "while (a < 1000) | (a > 5000) | (b < 1000) | (b > 5000) | (c < 1000) | (c > 5000) | (d < 1000) | (d > 5000):\n",
    "    if (a < 1000) | (a > 5000):\n",
    "       a = int(input(\"กรุณากรอกข้อมูลที่ 1 ใหม่:\")) \n",
    "    if (b < 1000) | (b > 5000):\n",
    "       b = int(input(\"กรุณากรอกข้อมูลที่ 2 ใหม่:\")) \n",
    "    if (c < 1000) | (c > 5000):\n",
    "       c = int(input(\"กรุณากรอกข้อมูลที่ 3 ใหม่:\")) \n",
    "    if (d < 1000) | (d > 5000):\n",
    "       d = int(input(\"กรุณากรอกข้อมูลที่ 4 ใหม่:\"))    \n",
    "else:\n",
    "    total = a + b + c\n",
    "    if (total > 9000):\n",
    "        d *= 0.70\n",
    "    elif (total > 4000):\n",
    "        d *= 0.75\n",
    "    print(d)  "
   ]
  },
  {
   "cell_type": "code",
   "execution_count": null,
   "metadata": {},
   "outputs": [],
   "source": [
    "a = int(input())\n",
    "b = int(input())\n",
    "c = int(input())\n",
    "d = int(input())\n",
    "e = bool(input(\"Cedit?\"))\n",
    "\n",
    "while (a < 1000) | (a > 5000) | (b < 1000) | (b > 5000) | (c < 1000) | (c > 5000) | (d < 1000) | (d > 5000):\n",
    "    if (a < 1000) | (a > 5000):\n",
    "       a = int(input(\"กรุณากรอกข้อมูลที่ 1 ใหม่:\")) \n",
    "    if (b < 1000) | (b > 5000):\n",
    "       b = int(input(\"กรุณากรอกข้อมูลที่ 2 ใหม่:\")) \n",
    "    if (c < 1000) | (c > 5000):\n",
    "       c = int(input(\"กรุณากรอกข้อมูลที่ 3 ใหม่:\")) \n",
    "    if (d < 1000) | (d > 5000):\n",
    "       d = int(input(\"กรุณากรอกข้อมูลที่ 4 ใหม่:\"))    \n",
    "else:\n",
    "    total = a + b + c\n",
    "    if (total > 9000):\n",
    "        d *= 0.70\n",
    "    elif (total > 4000):\n",
    "        d *= 0.75\n",
    "    if (e == True):\n",
    "        d *= 0.95   \n",
    "    print(d) "
   ]
  },
  {
   "cell_type": "code",
   "execution_count": null,
   "metadata": {},
   "outputs": [],
   "source": [
    "a = input(\"character >= 7: \")\n",
    "b = \"\"\n",
    "for i in a:\n",
    "    if (i.isupper()):        \n",
    "        b += i.lower()\n",
    "    else:\n",
    "        b += i.upper()\n",
    "    \n",
    "print(b) "
   ]
  },
  {
   "cell_type": "code",
   "execution_count": null,
   "metadata": {},
   "outputs": [],
   "source": [
    "a = input()\n",
    "b = input()\n",
    "c = input()\n",
    "d = input()\n",
    "\n",
    "e = len(a)\n",
    "f = len(b)\n",
    "g = len(c)\n",
    "h = len(d)\n",
    "\n",
    "dic = {a: e, b: f, c: g, d: h}\n",
    "{k: v for k, v in sorted(dic.items(), key=lambda item: item[1])}\n",
    "for key, value in dic.items():\n",
    "    print(key)"
   ]
  },
  {
   "cell_type": "code",
   "execution_count": null,
   "metadata": {},
   "outputs": [],
   "source": [
    "a = int(input(\"0 - 60: \"))\n",
    "b = int(input(\"0 - 60: \"))\n",
    "\n",
    "print(a*150 + b*2)"
   ]
  },
  {
   "cell_type": "code",
   "execution_count": null,
   "metadata": {},
   "outputs": [],
   "source": [
    "a = int(input(\"0 - 60: \"))\n",
    "b = int(input(\"0 - 60: \"))\n",
    "\n",
    "if (a == 0):\n",
    "    print(\"Free\")\n",
    "else:\n",
    "    if (b > 15):\n",
    "        print((a-1)*300 + 300)\n",
    "    else:    \n",
    "        print((a-1)*300)"
   ]
  },
  {
   "cell_type": "code",
   "execution_count": null,
   "metadata": {},
   "outputs": [],
   "source": [
    "a = int(input())\n",
    "b = int(input())\n",
    "\n",
    "x = (-b/2)+2*a\n",
    "y = a-x\n",
    "\n",
    "print(x*150 + y*220)"
   ]
  },
  {
   "cell_type": "code",
   "execution_count": null,
   "metadata": {},
   "outputs": [],
   "source": []
  },
  {
   "cell_type": "code",
   "execution_count": null,
   "metadata": {},
   "outputs": [],
   "source": []
  }
 ],
 "metadata": {
  "kernelspec": {
   "display_name": "Python 3",
   "language": "python",
   "name": "python3"
  },
  "language_info": {
   "codemirror_mode": {
    "name": "ipython",
    "version": 3
   },
   "file_extension": ".py",
   "mimetype": "text/x-python",
   "name": "python",
   "nbconvert_exporter": "python",
   "pygments_lexer": "ipython3",
   "version": "3.8.3"
  }
 },
 "nbformat": 4,
 "nbformat_minor": 4
}
